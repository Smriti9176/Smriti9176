{
 "cells": [
  {
   "cell_type": "code",
   "execution_count": 9,
   "id": "00801953-063b-42a2-b9b4-43391b67c39c",
   "metadata": {},
   "outputs": [
    {
     "ename": "OperationalError",
     "evalue": "near \"NULL\": syntax error",
     "output_type": "error",
     "traceback": [
      "\u001b[31m---------------------------------------------------------------------------\u001b[39m",
      "\u001b[31mOperationalError\u001b[39m                          Traceback (most recent call last)",
      "\u001b[36mCell\u001b[39m\u001b[36m \u001b[39m\u001b[32mIn[9]\u001b[39m\u001b[32m, line 31\u001b[39m\n\u001b[32m     14\u001b[39m cursor = connection.cursor()\n\u001b[32m     16\u001b[39m create_table_query= (\u001b[33m'''\u001b[39m\n\u001b[32m     17\u001b[39m \u001b[33m CREATE TABLE IF NOT EXISTS customers (\u001b[39m\n\u001b[32m     18\u001b[39m \u001b[33m    customer_id INTEGER PRIMARY KEY,  -- Unique identifier for each \u001b[39m\n\u001b[32m   (...)\u001b[39m\u001b[32m     28\u001b[39m \u001b[33m );\u001b[39m\n\u001b[32m     29\u001b[39m \u001b[33m'''\u001b[39m)\n\u001b[32m---> \u001b[39m\u001b[32m31\u001b[39m cursor.execute(create_table_query)\n",
      "\u001b[31mOperationalError\u001b[39m: near \"NULL\": syntax error"
     ]
    }
   ],
   "source": [
    "\"\"\"\n",
    "Task1\n",
    "Create a Customer Database in SQLite\n",
    " • Objective: You will create an SQLite database to manage customer data for a \n",
    "fictional bookstore called \"Bookshelf Haven.\" This task will help you practice your \n",
    "SQL skills in creating tables, inserting data, and retrieving information.\n",
    " • Sample Data: You will create a customers table and populate it with the following \n",
    "sample data\n",
    "\"\"\"\n",
    "\n",
    "import sqlite3\n",
    "connection = sqlite3.connect('bookstore.db')\n",
    "\n",
    "cursor = connection.cursor()\n",
    "\n",
    "create_table_query= ('''\n",
    " CREATE TABLE IF NOT EXISTS customers (\n",
    "    customer_id INTEGER PRIMARY KEY,  -- Unique identifier for each \n",
    "customer\n",
    "    name TEXT NOT NULL,                -- Customer's name, cannot be \n",
    "NULL\n",
    "    email TEXT NOT NULL UNIQUE,        -- Customer's email, cannot be \n",
    "NULL and must be unique\n",
    "    phone TEXT,                        -- Customer's phone number, can \n",
    "be NULL\n",
    "    joined_date DATE DEFAULT CURRENT_DATE  -- Date when the customer \n",
    "joined, defaults to the current date\n",
    " );\n",
    "''')\n",
    "\n",
    "cursor.execute(create_table_query)"
   ]
  },
  {
   "cell_type": "code",
   "execution_count": null,
   "id": "7bf4f4d2-ad0f-4e6f-bce6-204d198cc965",
   "metadata": {},
   "outputs": [],
   "source": []
  }
 ],
 "metadata": {
  "kernelspec": {
   "display_name": "Python 3 (ipykernel)",
   "language": "python",
   "name": "python3"
  },
  "language_info": {
   "codemirror_mode": {
    "name": "ipython",
    "version": 3
   },
   "file_extension": ".py",
   "mimetype": "text/x-python",
   "name": "python",
   "nbconvert_exporter": "python",
   "pygments_lexer": "ipython3",
   "version": "3.13.2"
  }
 },
 "nbformat": 4,
 "nbformat_minor": 5
}
