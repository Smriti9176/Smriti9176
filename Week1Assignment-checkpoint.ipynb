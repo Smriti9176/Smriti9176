{
 "cells": [
  {
   "cell_type": "code",
   "execution_count": 1,
   "id": "584117be-1135-46ad-bb68-12b24e2eb712",
   "metadata": {},
   "outputs": [
    {
     "name": "stdin",
     "output_type": "stream",
     "text": [
      "Enter your age! 5\n"
     ]
    },
    {
     "name": "stdout",
     "output_type": "stream",
     "text": [
      "You are not eligible to vote\n"
     ]
    }
   ],
   "source": [
    "#Task1\n",
    "age = int(input(\"Enter your age!\"))\n",
    "\n",
    "if age < 18:\n",
    "    print (\"You are not eligible to vote\")\n",
    "else:\n",
    "    print(\"You are eligible to vote.\")"
   ]
  },
  {
   "cell_type": "code",
   "execution_count": 2,
   "id": "1860cc73-7e6c-4194-84ee-f6db688ae0e6",
   "metadata": {},
   "outputs": [
    {
     "name": "stdin",
     "output_type": "stream",
     "text": [
      "Enter first numner 56\n",
      "Enter second number 6\n",
      "Enter operation +\n"
     ]
    },
    {
     "name": "stdout",
     "output_type": "stream",
     "text": [
      "62\n"
     ]
    }
   ],
   "source": [
    "#Task2\n",
    "num1 = int(input(\"Enter first numner\"))\n",
    "num2 = int(input(\"Enter second number\"))\n",
    "operation = input(\"Enter operation\")\n",
    "\n",
    "if operation == \"+\" :\n",
    "    print(num1+num2)\n",
    "elif operation == \"-\" :\n",
    "    print(num1-num2)\n",
    "elif operation == \"*\" :\n",
    "    print(num1 * num2)\n",
    "elif operation == \"/\" :\n",
    "    print(num1 / num2)\n",
    "else:\n",
    "    input(\"ERROR!!! Choose between +, - , *, /\")"
   ]
  },
  {
   "cell_type": "code",
   "execution_count": null,
   "id": "8d4d3124-aa6e-4add-8417-f13b9b65406f",
   "metadata": {},
   "outputs": [],
   "source": [
    "#1\n",
    "numbers = [71, 28, 35, 14, 58, 56, 37]\n",
    "print(max(numbers))\n",
    "print(min(numbers))"
   ]
  },
  {
   "cell_type": "code",
   "execution_count": null,
   "id": "e7c32526-7e9a-4940-aa81-318b626a5141",
   "metadata": {},
   "outputs": [],
   "source": [
    "#2\n",
    "num = int(input(\"Enter a number.\"))\n",
    "if num <= 1:\n",
    "    print (\"It is not a prime number.\")\n",
    "for i in range(2, int(num ** 0.5) + 1):\n",
    "    if num % i == 0:\n",
    "        print (\"It is not a prime number.\")\n",
    "    else:\n",
    "        print(\"It is a prime number.\")"
   ]
  },
  {
   "cell_type": "code",
   "execution_count": null,
   "id": "bc9c1354-3031-4a45-a550-30290e6e7d88",
   "metadata": {},
   "outputs": [],
   "source": [
    "#3\n",
    "def factorial(n):\n",
    "    if n==0 or n==1:\n",
    "        return 1\n",
    "    else:\n",
    "        return n * factorial(n-1)\n",
    "\n",
    "num = int(input(\"Enter a number.\"))\n",
    "print (factorial(num))"
   ]
  },
  {
   "cell_type": "code",
   "execution_count": null,
   "id": "99ccf2b9-fe7c-4021-8868-c12c14e8e66f",
   "metadata": {},
   "outputs": [],
   "source": [
    "#4\n",
    "def fibonacci(n):\n",
    "    list = []\n",
    "    a,b = 0,1\n",
    "    for i in range(n):\n",
    "        list.append(a)\n",
    "        a,b = b,a+b\n",
    "    return list\n",
    "\n",
    "n = int(input(\"Enter the number of terms.\"))\n",
    "print(fibonacci(n))"
   ]
  },
  {
   "cell_type": "code",
   "execution_count": null,
   "id": "63646828-87b5-481d-a0ec-e0ec72409325",
   "metadata": {},
   "outputs": [],
   "source": [
    "#5\n",
    "def sumOfDigits(n):\n",
    "    sum = 0\n",
    "    for i in str(n):\n",
    "        sum = sum + int(i) \n",
    "    return sum\n",
    "\n",
    "n= int(input(\"Enter a number.\"))\n",
    "print(sumOfDigits(n))"
   ]
  },
  {
   "cell_type": "code",
   "execution_count": null,
   "id": "c747022f-7e36-4787-82e9-1314bf057a81",
   "metadata": {},
   "outputs": [],
   "source": [
    "#6\n",
    "def decimalToBinary(n):\n",
    "    stack = []\n",
    "    while n > 0:\n",
    "        stack.append(str(n % 2))\n",
    "        n //= 2\n",
    "    return ''.join(reversed(stack)) if stack else '0'\n",
    "\n",
    "n = int(input(\"Enter a number: \"))\n",
    "print(decimalToBinary(n))"
   ]
  },
  {
   "cell_type": "code",
   "execution_count": 2,
   "id": "06df8306-e79e-46aa-87b4-5d75ffc0897d",
   "metadata": {},
   "outputs": [
    {
     "name": "stdin",
     "output_type": "stream",
     "text": [
      "Enter first number:  5\n",
      "Enter second number:  6\n"
     ]
    },
    {
     "name": "stdout",
     "output_type": "stream",
     "text": [
      "GCD is: 1\n"
     ]
    }
   ],
   "source": [
    "#7\n",
    "def gcd(a, b):\n",
    "    while b != 0:\n",
    "        a, b = b, a % b\n",
    "    return a\n",
    "\n",
    "x = int(input(\"Enter first number: \"))\n",
    "y = int(input(\"Enter second number: \"))\n",
    "\n",
    "print(\"GCD is:\", gcd(x, y))"
   ]
  },
  {
   "cell_type": "code",
   "execution_count": null,
   "id": "15bb3fb2-eec8-40cb-856a-fd4b70a4f572",
   "metadata": {},
   "outputs": [],
   "source": []
  },
  {
   "cell_type": "code",
   "execution_count": null,
   "id": "5286ed0e-6729-438b-b344-f6ade1bbb05e",
   "metadata": {},
   "outputs": [],
   "source": []
  }
 ],
 "metadata": {
  "kernelspec": {
   "display_name": "Python 3 (ipykernel)",
   "language": "python",
   "name": "python3"
  },
  "language_info": {
   "codemirror_mode": {
    "name": "ipython",
    "version": 3
   },
   "file_extension": ".py",
   "mimetype": "text/x-python",
   "name": "python",
   "nbconvert_exporter": "python",
   "pygments_lexer": "ipython3",
   "version": "3.13.2"
  }
 },
 "nbformat": 4,
 "nbformat_minor": 5
}
