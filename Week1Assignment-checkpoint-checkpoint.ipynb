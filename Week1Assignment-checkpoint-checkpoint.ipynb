{
 "cells": [
  {
   "cell_type": "code",
   "execution_count": 1,
   "id": "584117be-1135-46ad-bb68-12b24e2eb712",
   "metadata": {},
   "outputs": [
    {
     "name": "stdin",
     "output_type": "stream",
     "text": [
      "Enter your age! 5\n"
     ]
    },
    {
     "name": "stdout",
     "output_type": "stream",
     "text": [
      "You are not eligible to vote\n"
     ]
    }
   ],
   "source": [
    "#### Task1: Write a program that checks if a user is eligible to vote\n",
    "age = int(input(\"Enter your age!\"))\n",
    "\n",
    "if age < 18:\n",
    "    print (\"You are not eligible to vote\")\n",
    "else:\n",
    "    print(\"You are eligible to vote.\")"
   ]
  },
  {
   "cell_type": "code",
   "execution_count": 2,
   "id": "1860cc73-7e6c-4194-84ee-f6db688ae0e6",
   "metadata": {},
   "outputs": [
    {
     "name": "stdin",
     "output_type": "stream",
     "text": [
      "Enter first numner 5\n",
      "Enter second number 5\n",
      "Enter operation 5\n",
      "ERROR!!! Choose between +, - , *, / 5\n"
     ]
    }
   ],
   "source": [
    "#Task2:  Create a simple calculator that performs basic arithmetic operations\n",
    "num1 = int(input(\"Enter first numner\"))\n",
    "num2 = int(input(\"Enter second number\"))\n",
    "operation = input(\"Enter operation\")\n",
    "\n",
    "if operation == \"+\" :\n",
    "    print(num1+num2)\n",
    "elif operation == \"-\" :\n",
    "    print(num1-num2)\n",
    "elif operation == \"*\" :\n",
    "    print(num1 * num2)\n",
    "elif operation == \"/\" :\n",
    "    print(num1 / num2)\n",
    "else:\n",
    "    input(\"ERROR!!! Choose between +, - , *, /\")"
   ]
  },
  {
   "cell_type": "code",
   "execution_count": 3,
   "id": "8d4d3124-aa6e-4add-8417-f13b9b65406f",
   "metadata": {},
   "outputs": [
    {
     "name": "stdout",
     "output_type": "stream",
     "text": [
      "71\n",
      "14\n"
     ]
    }
   ],
   "source": [
    "#1  Find the Maximum and Minimum of a List\n",
    "numbers = [71, 28, 35, 14, 58, 56, 37]\n",
    "print(max(numbers))\n",
    "print(min(numbers))"
   ]
  },
  {
   "cell_type": "code",
   "execution_count": 4,
   "id": "e7c32526-7e9a-4940-aa81-318b626a5141",
   "metadata": {},
   "outputs": [
    {
     "name": "stdin",
     "output_type": "stream",
     "text": [
      "Enter a number. 55\n"
     ]
    },
    {
     "name": "stdout",
     "output_type": "stream",
     "text": [
      "It is a prime number.\n",
      "It is a prime number.\n",
      "It is a prime number.\n",
      "It is not a prime number.\n",
      "It is a prime number.\n",
      "It is a prime number.\n"
     ]
    }
   ],
   "source": [
    "#2 Check for Prime Number\n",
    "num = int(input(\"Enter a number.\"))\n",
    "if num <= 1:\n",
    "    print (\"It is not a prime number.\")\n",
    "for i in range(2, int(num ** 0.5) + 1):\n",
    "    if num % i == 0:\n",
    "        print (\"It is not a prime number.\")\n",
    "    else:\n",
    "        print(\"It is a prime number.\")"
   ]
  },
  {
   "cell_type": "code",
   "execution_count": 5,
   "id": "bc9c1354-3031-4a45-a550-30290e6e7d88",
   "metadata": {},
   "outputs": [
    {
     "name": "stdin",
     "output_type": "stream",
     "text": [
      "Enter a number. 5\n"
     ]
    },
    {
     "name": "stdout",
     "output_type": "stream",
     "text": [
      "120\n"
     ]
    }
   ],
   "source": [
    "#3 Factorial of a Number\n",
    "def factorial(n):\n",
    "    if n==0 or n==1:\n",
    "        return 1\n",
    "    else:\n",
    "        return n * factorial(n-1)\n",
    "\n",
    "num = int(input(\"Enter a number.\"))\n",
    "print (factorial(num))"
   ]
  },
  {
   "cell_type": "code",
   "execution_count": 6,
   "id": "99ccf2b9-fe7c-4021-8868-c12c14e8e66f",
   "metadata": {},
   "outputs": [
    {
     "name": "stdin",
     "output_type": "stream",
     "text": [
      "Enter the number of terms. 5\n"
     ]
    },
    {
     "name": "stdout",
     "output_type": "stream",
     "text": [
      "[0, 1, 1, 2, 3]\n"
     ]
    }
   ],
   "source": [
    "#4  Fibonacci Sequence\n",
    "def fibonacci(n):\n",
    "    list = []\n",
    "    a,b = 0,1\n",
    "    for i in range(n):\n",
    "        list.append(a)\n",
    "        a,b = b,a+b\n",
    "    return list\n",
    "\n",
    "n = int(input(\"Enter the number of terms.\"))\n",
    "print(fibonacci(n))"
   ]
  },
  {
   "cell_type": "code",
   "execution_count": 7,
   "id": "63646828-87b5-481d-a0ec-e0ec72409325",
   "metadata": {},
   "outputs": [
    {
     "name": "stdin",
     "output_type": "stream",
     "text": [
      "Enter a number. 5\n"
     ]
    },
    {
     "name": "stdout",
     "output_type": "stream",
     "text": [
      "5\n"
     ]
    }
   ],
   "source": [
    "#5 Sum of Digits\n",
    "def sumOfDigits(n):\n",
    "    sum = 0\n",
    "    for i in str(n):\n",
    "        sum = sum + int(i) \n",
    "    return sum\n",
    "\n",
    "n= int(input(\"Enter a number.\"))\n",
    "print(sumOfDigits(n))"
   ]
  },
  {
   "cell_type": "code",
   "execution_count": 8,
   "id": "c747022f-7e36-4787-82e9-1314bf057a81",
   "metadata": {},
   "outputs": [
    {
     "name": "stdin",
     "output_type": "stream",
     "text": [
      "Enter a number:  5\n"
     ]
    },
    {
     "name": "stdout",
     "output_type": "stream",
     "text": [
      "101\n"
     ]
    }
   ],
   "source": [
    "#6  Convert Decimal to Binary\n",
    "def decimalToBinary(n):\n",
    "    stack = []\n",
    "    while n > 0:\n",
    "        stack.append(str(n % 2))\n",
    "        n //= 2\n",
    "    return ''.join(reversed(stack)) if stack else '0'\n",
    "\n",
    "n = int(input(\"Enter a number: \"))\n",
    "print(decimalToBinary(n))"
   ]
  },
  {
   "cell_type": "code",
   "execution_count": 9,
   "id": "06df8306-e79e-46aa-87b4-5d75ffc0897d",
   "metadata": {},
   "outputs": [
    {
     "name": "stdin",
     "output_type": "stream",
     "text": [
      "Enter first number:  5\n",
      "Enter second number:  5\n"
     ]
    },
    {
     "name": "stdout",
     "output_type": "stream",
     "text": [
      "GCD is: 5\n"
     ]
    }
   ],
   "source": [
    "#7  Greatest Common Divisor (GCD)\n",
    "def gcd(a, b):\n",
    "    while b != 0:\n",
    "        a, b = b, a % b\n",
    "    return a\n",
    "\n",
    "x = int(input(\"Enter first number: \"))\n",
    "y = int(input(\"Enter second number: \"))\n",
    "\n",
    "print(\"GCD is:\", gcd(x, y))"
   ]
  },
  {
   "cell_type": "code",
   "execution_count": 10,
   "id": "15bb3fb2-eec8-40cb-856a-fd4b70a4f572",
   "metadata": {},
   "outputs": [],
   "source": [
    "#8 Find the Second Largest Number in a List\n",
    "def second_largest(numbers):\n",
    "    unique_numbers = list(set(numbers)) \n",
    "    if len(unique_numbers) < 2:\n",
    "        return None  # Not enough unique numbers\n",
    "    unique_numbers.sort(reverse=True)\n",
    "    return unique_numbers[1]"
   ]
  },
  {
   "cell_type": "code",
   "execution_count": 11,
   "id": "5286ed0e-6729-438b-b344-f6ade1bbb05e",
   "metadata": {},
   "outputs": [
    {
     "name": "stdin",
     "output_type": "stream",
     "text": [
      "Enter a number:  5\n"
     ]
    },
    {
     "name": "stdout",
     "output_type": "stream",
     "text": [
      "1\n"
     ]
    }
   ],
   "source": [
    "#9 Count the Number of Digits in a Number\n",
    "def CountNumberOfDigits(n):\n",
    "    count = 0\n",
    "    for i in str(n):\n",
    "        count += 1 \n",
    "    return count\n",
    "\n",
    "n = int(input(\"Enter a number: \"))\n",
    "print(CountNumberOfDigits(n))"
   ]
  },
  {
   "cell_type": "code",
   "execution_count": 15,
   "id": "0624e108-95f0-44f5-8352-0b2004a07894",
   "metadata": {},
   "outputs": [
    {
     "name": "stdin",
     "output_type": "stream",
     "text": [
      "Enter a number:  32\n"
     ]
    },
    {
     "name": "stdout",
     "output_type": "stream",
     "text": [
      "True\n"
     ]
    }
   ],
   "source": [
    "#10 Check if a Number is a Power of Two\n",
    "def powerOfTwo(n):\n",
    "    i = 0\n",
    "    while i<n:\n",
    "        if n == 2 ** i:\n",
    "            return True\n",
    "        i += 1\n",
    "    return False\n",
    "\n",
    "n = int(input(\"Enter a number: \"))\n",
    "print(powerOfTwo(n))"
   ]
  }
 ],
 "metadata": {
  "kernelspec": {
   "display_name": "Python 3 (ipykernel)",
   "language": "python",
   "name": "python3"
  },
  "language_info": {
   "codemirror_mode": {
    "name": "ipython",
    "version": 3
   },
   "file_extension": ".py",
   "mimetype": "text/x-python",
   "name": "python",
   "nbconvert_exporter": "python",
   "pygments_lexer": "ipython3",
   "version": "3.13.2"
  }
 },
 "nbformat": 4,
 "nbformat_minor": 5
}
