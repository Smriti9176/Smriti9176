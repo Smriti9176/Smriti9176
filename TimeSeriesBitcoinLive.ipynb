{
 "cells": [
  {
   "cell_type": "code",
   "execution_count": 32,
   "id": "f71d99ca-5288-4ce5-b533-04a6c8b9ca53",
   "metadata": {},
   "outputs": [],
   "source": [
    "import requests #send http requests to fetch live data\n",
    "import pandas as pd #data manipulation and analysis\n",
    "import matplotlib.pyplot as plt #plotting graphs\n",
    "from datetime import datetime #date and time\n",
    "import time #time-related operations"
   ]
  },
  {
   "cell_type": "code",
   "execution_count": 33,
   "id": "2a51bad6-3b48-40a2-8ebe-132432282f8c",
   "metadata": {},
   "outputs": [],
   "source": [
    "def fetch_price(): #words are connected using _ | etchPrice | \n",
    "    try:\n",
    "        url = 'https://api.coingecko.com/api/v3/simple/price?ids=bitcoin&vs_currencies=usd'\n",
    "        response = requests.get(url)\n",
    "        data = response.json()\n",
    "        price = data['bitcoin']['usd']\n",
    "        return price\n",
    "    except Exception as e:\n",
    "        print(f\"Error while fetching the data: {e}\")\n",
    "        return None "
   ]
  },
  {
   "cell_type": "code",
   "execution_count": 34,
   "id": "facc2c69-78fd-4237-a2bd-b4438399ef8c",
   "metadata": {},
   "outputs": [],
   "source": [
    "price_log = pd.DataFrame(columns=['timestamp', 'price'])"
   ]
  },
  {
   "cell_type": "code",
   "execution_count": 35,
   "id": "5136056e-7736-4411-bc4b-daccef07828e",
   "metadata": {},
   "outputs": [
    {
     "data": {
      "text/html": [
       "<div>\n",
       "<style scoped>\n",
       "    .dataframe tbody tr th:only-of-type {\n",
       "        vertical-align: middle;\n",
       "    }\n",
       "\n",
       "    .dataframe tbody tr th {\n",
       "        vertical-align: top;\n",
       "    }\n",
       "\n",
       "    .dataframe thead th {\n",
       "        text-align: right;\n",
       "    }\n",
       "</style>\n",
       "<table border=\"1\" class=\"dataframe\">\n",
       "  <thead>\n",
       "    <tr style=\"text-align: right;\">\n",
       "      <th></th>\n",
       "      <th>timestamp</th>\n",
       "      <th>price</th>\n",
       "    </tr>\n",
       "  </thead>\n",
       "  <tbody>\n",
       "  </tbody>\n",
       "</table>\n",
       "</div>"
      ],
      "text/plain": [
       "Empty DataFrame\n",
       "Columns: [timestamp, price]\n",
       "Index: []"
      ]
     },
     "execution_count": 35,
     "metadata": {},
     "output_type": "execute_result"
    }
   ],
   "source": [
    "price_log #Dataframe to represent data - empty as of now"
   ]
  },
  {
   "cell_type": "code",
   "execution_count": 36,
   "id": "03e54e1e-c881-46ba-ab7a-96530c30c177",
   "metadata": {},
   "outputs": [
    {
     "name": "stdout",
     "output_type": "stream",
     "text": [
      "Error while fetching the data: 'bitcoin'\n",
      "21:02:36 -> $None\n",
      "Error while fetching the data: 'bitcoin'\n",
      "21:02:46 -> $None\n"
     ]
    },
    {
     "name": "stderr",
     "output_type": "stream",
     "text": [
      "C:\\Users\\smriti\\AppData\\Local\\Temp\\ipykernel_27572\\2390783827.py:5: FutureWarning: The behavior of DataFrame concatenation with empty or all-NA entries is deprecated. In a future version, this will no longer exclude empty or all-NA columns when determining the result dtypes. To retain the old behavior, exclude the relevant entries before the concat operation.\n",
      "  price_log = pd.concat([price_log, pd.DataFrame([[now, price]], columns = ['timestamp','price'])])\n"
     ]
    },
    {
     "name": "stdout",
     "output_type": "stream",
     "text": [
      "21:02:56 -> $119631\n",
      "21:03:06 -> $119631\n",
      "21:03:17 -> $119620\n",
      "21:03:27 -> $119620\n",
      "21:03:37 -> $119620\n",
      "21:03:47 -> $119620\n",
      "Error while fetching the data: 'bitcoin'\n",
      "21:03:57 -> $None\n",
      "Error while fetching the data: 'bitcoin'\n",
      "21:04:07 -> $None\n",
      "Error while fetching the data: 'bitcoin'\n",
      "21:04:17 -> $None\n",
      "Error while fetching the data: 'bitcoin'\n",
      "21:04:27 -> $None\n",
      "Error while fetching the data: 'bitcoin'\n",
      "21:04:37 -> $None\n",
      "Error while fetching the data: 'bitcoin'\n",
      "21:04:47 -> $None\n",
      "21:04:57 -> $119561\n",
      "21:05:07 -> $119561\n",
      "21:05:17 -> $119560\n",
      "21:05:28 -> $119560\n",
      "21:05:38 -> $119560\n",
      "21:05:48 -> $119560\n",
      "Error while fetching the data: 'bitcoin'\n",
      "21:05:58 -> $None\n",
      "Error while fetching the data: 'bitcoin'\n",
      "21:06:08 -> $None\n",
      "Error while fetching the data: 'bitcoin'\n",
      "21:06:18 -> $None\n",
      "Error while fetching the data: 'bitcoin'\n",
      "21:06:28 -> $None\n",
      "Error while fetching the data: 'bitcoin'\n",
      "21:06:38 -> $None\n",
      "Error while fetching the data: 'bitcoin'\n",
      "21:06:48 -> $None\n",
      "21:06:58 -> $119551\n",
      "21:07:08 -> $119551\n",
      "21:07:18 -> $119545\n",
      "21:07:28 -> $119545\n"
     ]
    }
   ],
   "source": [
    "for _ in range(30): #30 values, each fetched in a gap of 10 seconds\n",
    "    now = datetime.now()\n",
    "    price = fetch_price()\n",
    "    if price: \n",
    "        price_log = pd.concat([price_log, pd.DataFrame([[now, price]], columns = ['timestamp','price'])])\n",
    "        print(f\"{now.strftime('%H:%M:%S')} -> ${price}\")\n",
    "    else:\n",
    "        print(f\"{now.strftime('%H:%M:%S')} -> ${price}\")\n",
    "    time.sleep(10)"
   ]
  },
  {
   "cell_type": "code",
   "execution_count": null,
   "id": "e2634c40-4d16-4c6b-bb2c-cf152996e22b",
   "metadata": {},
   "outputs": [],
   "source": []
  }
 ],
 "metadata": {
  "kernelspec": {
   "display_name": "Python 3 (ipykernel)",
   "language": "python",
   "name": "python3"
  },
  "language_info": {
   "codemirror_mode": {
    "name": "ipython",
    "version": 3
   },
   "file_extension": ".py",
   "mimetype": "text/x-python",
   "name": "python",
   "nbconvert_exporter": "python",
   "pygments_lexer": "ipython3",
   "version": "3.11.13"
  }
 },
 "nbformat": 4,
 "nbformat_minor": 5
}
