{
 "cells": [
  {
   "cell_type": "code",
   "execution_count": null,
   "id": "42a47909-cda8-4753-958a-e717cd9824e6",
   "metadata": {},
   "outputs": [],
   "source": []
  }
 ],
 "metadata": {
  "kernelspec": {
   "display_name": "",
   "name": ""
  },
  "language_info": {
   "name": ""
  }
 },
 "nbformat": 4,
 "nbformat_minor": 5
}
