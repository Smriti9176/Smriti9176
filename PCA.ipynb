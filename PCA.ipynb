{
 "cells": [
  {
   "cell_type": "code",
   "execution_count": null,
   "id": "76b6a8f3-cd1b-4dac-81c8-3250c9f66f47",
   "metadata": {},
   "outputs": [],
   "source": [
    "#PCA -> Customerv Behavior Online pattern\n",
    "#PCA -> Reduce dimesionality\n",
    "\n",
    "#Agenda -> Segment Customers to target marketing campaigns"
   ]
  },
  {
   "cell_type": "code",
   "execution_count": 2,
   "id": "f2275f59-8645-4129-b6e8-2d66b52eb349",
   "metadata": {},
   "outputs": [
    {
     "data": {
      "text/html": [
       "<div>\n",
       "<style scoped>\n",
       "    .dataframe tbody tr th:only-of-type {\n",
       "        vertical-align: middle;\n",
       "    }\n",
       "\n",
       "    .dataframe tbody tr th {\n",
       "        vertical-align: top;\n",
       "    }\n",
       "\n",
       "    .dataframe thead th {\n",
       "        text-align: right;\n",
       "    }\n",
       "</style>\n",
       "<table border=\"1\" class=\"dataframe\">\n",
       "  <thead>\n",
       "    <tr style=\"text-align: right;\">\n",
       "      <th></th>\n",
       "      <th>Age</th>\n",
       "      <th>AnnualIncome</th>\n",
       "      <th>SessionTime</th>\n",
       "      <th>NumItemPurchased</th>\n",
       "      <th>Rating</th>\n",
       "    </tr>\n",
       "  </thead>\n",
       "  <tbody>\n",
       "    <tr>\n",
       "      <th>0</th>\n",
       "      <td>32</td>\n",
       "      <td>400000</td>\n",
       "      <td>5</td>\n",
       "      <td>3</td>\n",
       "      <td>4.2</td>\n",
       "    </tr>\n",
       "    <tr>\n",
       "      <th>1</th>\n",
       "      <td>60</td>\n",
       "      <td>50000</td>\n",
       "      <td>8</td>\n",
       "      <td>6</td>\n",
       "      <td>4.8</td>\n",
       "    </tr>\n",
       "    <tr>\n",
       "      <th>2</th>\n",
       "      <td>45</td>\n",
       "      <td>40000</td>\n",
       "      <td>7</td>\n",
       "      <td>7</td>\n",
       "      <td>5.0</td>\n",
       "    </tr>\n",
       "    <tr>\n",
       "      <th>3</th>\n",
       "      <td>32</td>\n",
       "      <td>200000</td>\n",
       "      <td>4</td>\n",
       "      <td>2</td>\n",
       "      <td>4.1</td>\n",
       "    </tr>\n",
       "    <tr>\n",
       "      <th>4</th>\n",
       "      <td>31</td>\n",
       "      <td>600000</td>\n",
       "      <td>6</td>\n",
       "      <td>8</td>\n",
       "      <td>4.9</td>\n",
       "    </tr>\n",
       "  </tbody>\n",
       "</table>\n",
       "</div>"
      ],
      "text/plain": [
       "   Age  AnnualIncome  SessionTime  NumItemPurchased  Rating\n",
       "0   32        400000            5                 3     4.2\n",
       "1   60         50000            8                 6     4.8\n",
       "2   45         40000            7                 7     5.0\n",
       "3   32        200000            4                 2     4.1\n",
       "4   31        600000            6                 8     4.9"
      ]
     },
     "execution_count": 2,
     "metadata": {},
     "output_type": "execute_result"
    }
   ],
   "source": [
    "import pandas as pd\n",
    "data = pd.DataFrame({\n",
    "    'Age' : [32, 60, 45, 32, 31],\n",
    "    'AnnualIncome' : [400000, 50000, 40000, 200000, 600000],\n",
    "    'SessionTime' : [5, 8, 7, 4, 6],\n",
    "    'NumItemPurchased' : [3, 6, 7, 2, 8],\n",
    "    'Rating' : [4.2, 4.8, 5, 4.1, 4.9]\n",
    "})\n",
    "data"
   ]
  },
  {
   "cell_type": "code",
   "execution_count": 5,
   "id": "bf0247fa-7509-4467-8a29-87e0b40d0ff7",
   "metadata": {},
   "outputs": [
    {
     "name": "stdout",
     "output_type": "stream",
     "text": [
      "[[-0.71044483  0.66024376 -0.70710678 -0.95025527 -1.06904497]\n",
      " [ 1.77611208 -0.96711762  1.41421356  0.34554737  0.53452248]\n",
      " [ 0.44402802 -1.01361366  0.70710678  0.77748158  1.06904497]\n",
      " [-0.71044483 -0.26967703 -1.41421356 -1.38218948 -1.33630621]\n",
      " [-0.79925044  1.59016456  0.          1.2094158   0.80178373]]\n"
     ]
    }
   ],
   "source": [
    "#PCA -> sensitive to StandardScaler() - scales each column to mean = 0, std = 1\n",
    "#Data standardization -> zero mean, unit variance\n",
    "\n",
    "from sklearn.preprocessing import StandardScaler\n",
    "\n",
    "scaler = StandardScaler()\n",
    "scaled_data = scaler.fit_transform(data)\n",
    "print(scaled_data)"
   ]
  },
  {
   "cell_type": "code",
   "execution_count": 6,
   "id": "f171b893-023a-4629-9bbc-3051835adf87",
   "metadata": {},
   "outputs": [
    {
     "data": {
      "text/plain": [
       "array([[-1.81814455, -0.06484462],\n",
       "       [ 2.23964724, -1.08701888],\n",
       "       [ 1.71252695, -0.15200706],\n",
       "       [-2.27906228, -0.98504984],\n",
       "       [ 0.14503264,  2.2889204 ]])"
      ]
     },
     "execution_count": 6,
     "metadata": {},
     "output_type": "execute_result"
    }
   ],
   "source": [
    "#Applying PCA\n",
    "from sklearn.decomposition import PCA\n",
    "\n",
    "pca = PCA(n_components = 2)\n",
    "principal_components = pca.fit_transform(scaled_data)\n",
    "principal_components"
   ]
  },
  {
   "cell_type": "code",
   "execution_count": 7,
   "id": "3878bd72-bc5d-45d8-abb1-a4d6439a7ec7",
   "metadata": {},
   "outputs": [
    {
     "name": "stdout",
     "output_type": "stream",
     "text": [
      "[0.65878309 0.29673603]\n"
     ]
    }
   ],
   "source": [
    "print(pca.explained_variance_ratio_)"
   ]
  },
  {
   "cell_type": "code",
   "execution_count": 8,
   "id": "2595e1ab-f4aa-41b6-96d4-db1d07885b0a",
   "metadata": {},
   "outputs": [
    {
     "name": "stdout",
     "output_type": "stream",
     "text": [
      "        PC1       PC2\n",
      "0 -1.818145 -0.064845\n",
      "1  2.239647 -1.087019\n",
      "2  1.712527 -0.152007\n",
      "3 -2.279062 -0.985050\n",
      "4  0.145033  2.288920\n"
     ]
    }
   ],
   "source": [
    "result = pd.DataFrame(\n",
    "    principal_components,\n",
    "    columns = ['PC1', 'PC2']\n",
    ")\n",
    "\n",
    "print(result)"
   ]
  },
  {
   "cell_type": "code",
   "execution_count": 9,
   "id": "001df450-528a-46c7-bf52-25947d1295b9",
   "metadata": {},
   "outputs": [
    {
     "ename": "ModuleNotFoundError",
     "evalue": "No module named 'matplotlib'",
     "output_type": "error",
     "traceback": [
      "\u001b[31m---------------------------------------------------------------------------\u001b[39m",
      "\u001b[31mModuleNotFoundError\u001b[39m                       Traceback (most recent call last)",
      "\u001b[36mCell\u001b[39m\u001b[36m \u001b[39m\u001b[32mIn[9]\u001b[39m\u001b[32m, line 1\u001b[39m\n\u001b[32m----> \u001b[39m\u001b[32m1\u001b[39m \u001b[38;5;28;01mimport\u001b[39;00m\u001b[38;5;250m \u001b[39m\u001b[34;01mmatplotlib\u001b[39;00m\u001b[34;01m.\u001b[39;00m\u001b[34;01mpyplot\u001b[39;00m\u001b[38;5;250m \u001b[39m\u001b[38;5;28;01mas\u001b[39;00m\u001b[38;5;250m \u001b[39m\u001b[34;01mplt\u001b[39;00m\n\u001b[32m      3\u001b[39m plt.scatter(result[\u001b[33m'\u001b[39m\u001b[33mPC1\u001b[39m\u001b[33m'\u001b[39m], result[\u001b[33m'\u001b[39m\u001b[33mPC2\u001b[39m\u001b[33m'\u001b[39m])\n\u001b[32m      4\u001b[39m plt.show()\n",
      "\u001b[31mModuleNotFoundError\u001b[39m: No module named 'matplotlib'"
     ]
    }
   ],
   "source": [
    "import matplotlib.pyplot as plt\n",
    "\n",
    "plt.scatter(result['PC1'], result['PC2'])\n",
    "plt.show()"
   ]
  }
 ],
 "metadata": {
  "kernelspec": {
   "display_name": "Python 3 (ipykernel)",
   "language": "python",
   "name": "python3"
  },
  "language_info": {
   "codemirror_mode": {
    "name": "ipython",
    "version": 3
   },
   "file_extension": ".py",
   "mimetype": "text/x-python",
   "name": "python",
   "nbconvert_exporter": "python",
   "pygments_lexer": "ipython3",
   "version": "3.13.2"
  }
 },
 "nbformat": 4,
 "nbformat_minor": 5
}
