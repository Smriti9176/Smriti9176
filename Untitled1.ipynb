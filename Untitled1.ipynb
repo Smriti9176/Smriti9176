{
 "cells": [
  {
   "cell_type": "code",
   "execution_count": null,
   "id": "2d635e80-b00b-4625-ad23-2da8cd3d1326",
   "metadata": {},
   "outputs": [],
   "source": [
    "import numpy as np\n",
    "import matplotlib.puplot as plt\n",
    "\n",
    "plt.hist(np.random.exponential(scale=5, size=10000), bins = 100)\n",
    "plt.xlabel(\"Time[Seconds]\")\n",
    "plt.xlabel(\"Frequency\")\n",
    "plt.title(\"Exponential Distribution of connection durations\")\n",
    "plt,show()"
   ]
  }
 ],
 "metadata": {
  "kernelspec": {
   "display_name": "Python 3 (ipykernel)",
   "language": "python",
   "name": "python3"
  },
  "language_info": {
   "codemirror_mode": {
    "name": "ipython",
    "version": 3
   },
   "file_extension": ".py",
   "mimetype": "text/x-python",
   "name": "python",
   "nbconvert_exporter": "python",
   "pygments_lexer": "ipython3",
   "version": "3.13.2"
  }
 },
 "nbformat": 4,
 "nbformat_minor": 5
}
