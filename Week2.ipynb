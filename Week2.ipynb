{
 "cells": [
  {
   "cell_type": "code",
   "execution_count": 2,
   "id": "dbdeeb7c-a8f5-4433-bcd7-34e0181d4596",
   "metadata": {},
   "outputs": [
    {
     "name": "stdout",
     "output_type": "stream",
     "text": [
      "NumPy version: 2.2.6\n",
      "Pandas version: 2.2.3\n"
     ]
    }
   ],
   "source": [
    "import numpy as np\n",
    "import pandas as pd\n",
    "print(\"NumPy version:\", np.__version__)  #Output the version of Numpy\n",
    "print(\"Pandas version:\", pd.__version__)  #Output the version of Pandas"
   ]
  },
  {
   "cell_type": "code",
   "execution_count": 6,
   "id": "6ce8497a-741c-4907-a069-c874d1bff050",
   "metadata": {},
   "outputs": [
    {
     "name": "stdout",
     "output_type": "stream",
     "text": [
      "[1 2 3 4 5]\n"
     ]
    }
   ],
   "source": [
    "import numpy as np\n",
    "arr = np.array([1,2,3,4,5])\n",
    "print(arr)"
   ]
  },
  {
   "cell_type": "code",
   "execution_count": 10,
   "id": "a8056773-1bdb-4c8d-bc49-808717433d83",
   "metadata": {},
   "outputs": [
    {
     "name": "stdout",
     "output_type": "stream",
     "text": [
      "Element wise addition:  [5 7 9]\n",
      "Element wise addition:  [-3 -3 -3]\n",
      "Element wise addition:  [ 4 10 18]\n",
      "Element wise addition:  [0.25 0.4  0.5 ]\n"
     ]
    }
   ],
   "source": [
    "#Adding two arrays\n",
    "import numpy as np\n",
    "arr1 = np.array([1,2,3])\n",
    "arr2 = np.array([4,5,6])\n",
    "arr_sum = arr1+arr2\n",
    "arr_difference = arr1-arr2\n",
    "arr_product = arr1*arr2\n",
    "arr_quotient = arr1/arr2\n",
    "print(\"Element wise addition: \", arr_sum)\n",
    "print(\"Element wise addition: \", arr_difference)\n",
    "print(\"Element wise addition: \", arr_product)\n",
    "print(\"Element wise addition: \", arr_quotient)"
   ]
  },
  {
   "cell_type": "code",
   "execution_count": null,
   "id": "516e5154-c49c-46f6-82b3-26c46d0e0215",
   "metadata": {},
   "outputs": [],
   "source": []
  }
 ],
 "metadata": {
  "kernelspec": {
   "display_name": "Python 3 (ipykernel)",
   "language": "python",
   "name": "python3"
  },
  "language_info": {
   "codemirror_mode": {
    "name": "ipython",
    "version": 3
   },
   "file_extension": ".py",
   "mimetype": "text/x-python",
   "name": "python",
   "nbconvert_exporter": "python",
   "pygments_lexer": "ipython3",
   "version": "3.13.2"
  }
 },
 "nbformat": 4,
 "nbformat_minor": 5
}
