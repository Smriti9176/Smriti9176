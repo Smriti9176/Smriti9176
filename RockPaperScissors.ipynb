{
 "cells": [
  {
   "cell_type": "code",
   "execution_count": 5,
   "id": "75be19ee-1d91-4b39-95c9-557f9ca1be3a",
   "metadata": {},
   "outputs": [
    {
     "name": "stdin",
     "output_type": "stream",
     "text": [
      "Enter rock, paper, or scissors:  scissors\n"
     ]
    },
    {
     "name": "stdout",
     "output_type": "stream",
     "text": [
      "You chose scissors and the computer chose rock. You lose!\n"
     ]
    }
   ],
   "source": [
    "import random\n",
    "\n",
    "choices = [\"rock\",\"paper\",\"scissors\"]\n",
    "computer_choice = random.choice(choices)\n",
    "\n",
    "player_choice = input(\"Enter rock, paper, or scissors: \").lower()\n",
    "\n",
    "if player_choice == computer_choice:\n",
    "    print(f\"Both chose {player_choice}. It's a tie!\")\n",
    "elif (player_choice == \"rock\" and computer_choice == \"scissors\") or \\\n",
    "    (player_choice == \"scissors\" and computer_choice == \"paper\") or \\\n",
    "    (player_choice == \"paper\" and computer_choice == \"rock\"):\n",
    "    print(f\"You chose {player_choice} and the computer chose {computer_choice}. You win!\")\n",
    "else:\n",
    "    print(f\"You chose {player_choice} and the computer chose {computer_choice}. You lose!\")\n",
    "\n",
    "\n",
    "\n",
    "\n",
    "\n",
    "\n",
    "\n",
    "\n",
    "\n",
    "\n",
    "\n"
   ]
  },
  {
   "cell_type": "code",
   "execution_count": null,
   "id": "7a6ae90a-d1ee-4ca2-9e34-b43512823a58",
   "metadata": {},
   "outputs": [],
   "source": []
  }
 ],
 "metadata": {
  "kernelspec": {
   "display_name": "Python 3 (ipykernel)",
   "language": "python",
   "name": "python3"
  },
  "language_info": {
   "codemirror_mode": {
    "name": "ipython",
    "version": 3
   },
   "file_extension": ".py",
   "mimetype": "text/x-python",
   "name": "python",
   "nbconvert_exporter": "python",
   "pygments_lexer": "ipython3",
   "version": "3.13.2"
  }
 },
 "nbformat": 4,
 "nbformat_minor": 5
}
