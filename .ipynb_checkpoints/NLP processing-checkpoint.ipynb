{
 "cells": [
  {
   "cell_type": "code",
   "execution_count": 3,
   "id": "e57b15ce-ca49-4f96-99fb-3de7e86cec84",
   "metadata": {},
   "outputs": [],
   "source": [
    "import spacy \n",
    "from spacy.util import minibatch, compounding\n",
    "import random"
   ]
  },
  {
   "cell_type": "code",
   "execution_count": 15,
   "id": "5dec53f5-b42d-40a3-a11a-e52abe9b79c2",
   "metadata": {},
   "outputs": [],
   "source": [
    "#Synthetic data\n",
    "train_data = [\n",
    "    (\"I love this product!\", {\"cats\":{\"Positive\":1, \"Negative\":0}}),\n",
    "    (\"This is the worst thing ever\", {\"cats\":{\"Positive\":0, \"Negative\":1}}),\n",
    "    (\"Absolutely fantastic experience\", {\"cats\":{\"Positive\":1, \"Negative\":0}}),\n",
    "    (\"Horrible and Disappointing\", {\"cats\":{\"Positive\":0, \"Negative\":1}})\n",
    "]"
   ]
  },
  {
   "cell_type": "code",
   "execution_count": 16,
   "id": "f84ecd1a-8d54-4b95-80c5-f87f7c1dc3b9",
   "metadata": {},
   "outputs": [
    {
     "data": {
      "text/plain": [
       "[('I love this product!', {'cats': {'Positive': 1, 'Negative': 0}}),\n",
       " ('This is the worst thing ever', {'cats': {'Positive': 0, 'Negative': 1}}),\n",
       " ('Absolutely fantastic experience', {'cats': {'Positive': 1, 'Negative': 0}}),\n",
       " ('Horrible and Disappointing', {'cats': {'Positive': 0, 'Negative': 1}})]"
      ]
     },
     "execution_count": 16,
     "metadata": {},
     "output_type": "execute_result"
    }
   ],
   "source": [
    "train_data"
   ]
  },
  {
   "cell_type": "code",
   "execution_count": 17,
   "id": "299e779b-54f9-4a70-9a0d-9014c461b118",
   "metadata": {},
   "outputs": [],
   "source": [
    "nlp = spacy.blank(\"en\") #creates blank nlp pipeline\n",
    "# no components like tokenizer, tagger or parser by default"
   ]
  },
  {
   "cell_type": "code",
   "execution_count": 18,
   "id": "8537cb1d-2c8b-4141-bd03-0f31c24d594d",
   "metadata": {},
   "outputs": [
    {
     "data": {
      "text/plain": [
       "<spacy.lang.en.English at 0x1d657194910>"
      ]
     },
     "execution_count": 18,
     "metadata": {},
     "output_type": "execute_result"
    }
   ],
   "source": [
    "nlp"
   ]
  },
  {
   "cell_type": "code",
   "execution_count": 19,
   "id": "3268beda-b755-4117-8e3c-923d50ad784b",
   "metadata": {},
   "outputs": [],
   "source": [
    "textcat = nlp.add_pipe('textcat')"
   ]
  },
  {
   "cell_type": "code",
   "execution_count": 20,
   "id": "5455352a-39a1-4c3e-9a27-eb1ee0fde7a7",
   "metadata": {},
   "outputs": [
    {
     "data": {
      "text/plain": [
       "1"
      ]
     },
     "execution_count": 20,
     "metadata": {},
     "output_type": "execute_result"
    }
   ],
   "source": [
    "textcat.add_label(\"Positive\")\n",
    "textcat.add_label(\"Negative\")"
   ]
  },
  {
   "cell_type": "code",
   "execution_count": 27,
   "id": "67dfac27-6bb9-44f1-acd9-373355abc014",
   "metadata": {},
   "outputs": [
    {
     "ename": "ValueError",
     "evalue": "[E989] `nlp.update()` was called with two positional arguments. This may be due to a backwards-incompatible change to the format of the training data in spaCy 3.0 onwards. The 'update' function should now be called with a batch of Example objects, instead of `(text, annotation)` tuples. ",
     "output_type": "error",
     "traceback": [
      "\u001b[31m---------------------------------------------------------------------------\u001b[39m",
      "\u001b[31mValueError\u001b[39m                                Traceback (most recent call last)",
      "\u001b[36mCell\u001b[39m\u001b[36m \u001b[39m\u001b[32mIn[27]\u001b[39m\u001b[32m, line 7\u001b[39m\n\u001b[32m      5\u001b[39m \u001b[38;5;28;01mfor\u001b[39;00m batch \u001b[38;5;129;01min\u001b[39;00m batches:\n\u001b[32m      6\u001b[39m     texts, annotations = \u001b[38;5;28mzip\u001b[39m(*batch)\n\u001b[32m----> \u001b[39m\u001b[32m7\u001b[39m     nlp.update(texts, annotations, sgd = opt)\n",
      "\u001b[36mFile \u001b[39m\u001b[32m~\\miniconda3\\envs\\myenv\\Lib\\site-packages\\spacy\\language.py:1175\u001b[39m, in \u001b[36mLanguage.update\u001b[39m\u001b[34m(self, examples, _, drop, sgd, losses, component_cfg, exclude, annotates)\u001b[39m\n\u001b[32m   1157\u001b[39m \u001b[38;5;250m\u001b[39m\u001b[33;03m\"\"\"Update the models in the pipeline.\u001b[39;00m\n\u001b[32m   1158\u001b[39m \n\u001b[32m   1159\u001b[39m \u001b[33;03mexamples (Iterable[Example]): A batch of examples\u001b[39;00m\n\u001b[32m   (...)\u001b[39m\u001b[32m   1172\u001b[39m \u001b[33;03mDOCS: https://spacy.io/api/language#update\u001b[39;00m\n\u001b[32m   1173\u001b[39m \u001b[33;03m\"\"\"\u001b[39;00m\n\u001b[32m   1174\u001b[39m \u001b[38;5;28;01mif\u001b[39;00m _ \u001b[38;5;129;01mis\u001b[39;00m \u001b[38;5;129;01mnot\u001b[39;00m \u001b[38;5;28;01mNone\u001b[39;00m:\n\u001b[32m-> \u001b[39m\u001b[32m1175\u001b[39m     \u001b[38;5;28;01mraise\u001b[39;00m \u001b[38;5;167;01mValueError\u001b[39;00m(Errors.E989)\n\u001b[32m   1176\u001b[39m \u001b[38;5;28;01mif\u001b[39;00m losses \u001b[38;5;129;01mis\u001b[39;00m \u001b[38;5;28;01mNone\u001b[39;00m:\n\u001b[32m   1177\u001b[39m     losses = {}\n",
      "\u001b[31mValueError\u001b[39m: [E989] `nlp.update()` was called with two positional arguments. This may be due to a backwards-incompatible change to the format of the training data in spaCy 3.0 onwards. The 'update' function should now be called with a batch of Example objects, instead of `(text, annotation)` tuples. "
     ]
    }
   ],
   "source": [
    "opt = nlp.begin_training()\n",
    "for i in range(20):\n",
    "    random.shuffle(train_data)\n",
    "    \n",
    "    batches = minibatch(train_data, size = compounding(2.0, 8.0, 1.001))\n",
    "    for batch in batches:\n",
    "        texts, annotations = zip(*batch)\n",
    "        nlp.update(texts, annotations, sgd = opt)"
   ]
  },
  {
   "cell_type": "code",
   "execution_count": null,
   "id": "53dcd381-ca47-47fd-b6ac-017a5318292c",
   "metadata": {},
   "outputs": [],
   "source": []
  },
  {
   "cell_type": "code",
   "execution_count": 22,
   "id": "119bc282-abe7-44ec-a174-ecfae28631a7",
   "metadata": {},
   "outputs": [
    {
     "name": "stdout",
     "output_type": "stream",
     "text": [
      "2.0\n",
      "2.0\n",
      "2.0\n",
      "2.01\n",
      "2.01\n",
      "2.01\n",
      "2.01\n",
      "2.01\n",
      "2.02\n",
      "2.02\n",
      "2.02\n",
      "2.02\n",
      "2.02\n",
      "2.03\n",
      "2.03\n",
      "2.03\n",
      "2.03\n",
      "2.03\n",
      "2.04\n",
      "2.04\n"
     ]
    }
   ],
   "source": [
    "com = compounding(2.0, 8.0, 1.001)\n",
    "\n",
    "for i in range(20):\n",
    "    print(round(next(com),2))"
   ]
  },
  {
   "cell_type": "code",
   "execution_count": null,
   "id": "e2e3425b-4e5f-441e-87ff-44f00d99c562",
   "metadata": {},
   "outputs": [],
   "source": []
  }
 ],
 "metadata": {
  "kernelspec": {
   "display_name": "Python 3 (ipykernel)",
   "language": "python",
   "name": "python3"
  },
  "language_info": {
   "codemirror_mode": {
    "name": "ipython",
    "version": 3
   },
   "file_extension": ".py",
   "mimetype": "text/x-python",
   "name": "python",
   "nbconvert_exporter": "python",
   "pygments_lexer": "ipython3",
   "version": "3.13.2"
  }
 },
 "nbformat": 4,
 "nbformat_minor": 5
}
