{
 "cells": [
  {
   "cell_type": "code",
   "execution_count": 2,
   "id": "dbdeeb7c-a8f5-4433-bcd7-34e0181d4596",
   "metadata": {},
   "outputs": [
    {
     "name": "stdout",
     "output_type": "stream",
     "text": [
      "NumPy version: 2.2.6\n",
      "Pandas version: 2.2.3\n"
     ]
    }
   ],
   "source": [
    "import numpy as np\n",
    "import pandas as pd\n",
    "print(\"NumPy version:\", np.__version__)  #Output the version of Numpy\n",
    "print(\"Pandas version:\", pd.__version__)  #Output the version of Pandas"
   ]
  },
  {
   "cell_type": "code",
   "execution_count": 6,
   "id": "6ce8497a-741c-4907-a069-c874d1bff050",
   "metadata": {},
   "outputs": [
    {
     "name": "stdout",
     "output_type": "stream",
     "text": [
      "[1 2 3 4 5]\n"
     ]
    }
   ],
   "source": [
    "import numpy as np\n",
    "arr = np.array([1,2,3,4,5])\n",
    "print(arr)"
   ]
  },
  {
   "cell_type": "code",
   "execution_count": 10,
   "id": "a8056773-1bdb-4c8d-bc49-808717433d83",
   "metadata": {},
   "outputs": [
    {
     "name": "stdout",
     "output_type": "stream",
     "text": [
      "Element wise addition:  [5 7 9]\n",
      "Element wise addition:  [-3 -3 -3]\n",
      "Element wise addition:  [ 4 10 18]\n",
      "Element wise addition:  [0.25 0.4  0.5 ]\n"
     ]
    }
   ],
   "source": [
    "#Adding two arrays\n",
    "import numpy as np\n",
    "arr1 = np.array([1,2,3])\n",
    "arr2 = np.array([4,5,6])\n",
    "arr_sum = arr1+arr2\n",
    "arr_difference = arr1-arr2\n",
    "arr_product = arr1*arr2\n",
    "arr_quotient = arr1/arr2\n",
    "print(\"Element wise addition: \", arr_sum)\n",
    "print(\"Element wise addition: \", arr_difference)\n",
    "print(\"Element wise addition: \", arr_product)\n",
    "print(\"Element wise addition: \", arr_quotient)"
   ]
  },
  {
   "cell_type": "code",
   "execution_count": 8,
   "id": "516e5154-c49c-46f6-82b3-26c46d0e0215",
   "metadata": {},
   "outputs": [
    {
     "name": "stdout",
     "output_type": "stream",
     "text": [
      "2\n",
      "(2, 3)\n"
     ]
    }
   ],
   "source": [
    "#Dimensions and Shapes\n",
    "import numpy as np\n",
    "arr = np.array ([[1,2,3],[4,5,6]])\n",
    "print(arr.ndim)\n",
    "print(arr.shape)"
   ]
  },
  {
   "cell_type": "code",
   "execution_count": 11,
   "id": "7ab1687a-fb25-41ba-9fa9-d70fac28a40f",
   "metadata": {},
   "outputs": [
    {
     "name": "stdout",
     "output_type": "stream",
     "text": [
      "1\n",
      "[2]\n"
     ]
    }
   ],
   "source": [
    "import numpy as np\n",
    "arr = np.array([1,2,3])\n",
    "print(arr[0])\n",
    "print(arr[1:2]) #Slicing arrays"
   ]
  },
  {
   "cell_type": "code",
   "execution_count": 18,
   "id": "716d7939-1cf6-4675-9079-82a63c20cc21",
   "metadata": {},
   "outputs": [
    {
     "name": "stdout",
     "output_type": "stream",
     "text": [
      "Pandas Series: \n",
      "0    1\n",
      "1    2\n",
      "2    3\n",
      "3    4\n",
      "dtype: int64\n",
      "First Element in the series:  1\n"
     ]
    }
   ],
   "source": [
    "#Series\n",
    "import pandas as pd\n",
    "data = [1,2,3,4]\n",
    "series = pd.Series(data)\n",
    "print(\"Pandas Series: \")\n",
    "print(series)\n",
    "print(\"First Element in the series: \", series[0])"
   ]
  },
  {
   "cell_type": "code",
   "execution_count": 21,
   "id": "758ee7ae-ffba-42f8-b0d4-73e5e632d85d",
   "metadata": {},
   "outputs": [
    {
     "name": "stdout",
     "output_type": "stream",
     "text": [
      "\n",
      "Pandas DataFrame: \n",
      "      Name  Age         City\n",
      "0    Alice   25  Los Angeles\n",
      "1      Bob   30     New York\n",
      "2  Charlie   35      Chicago\n",
      "0      Alice\n",
      "1        Bob\n",
      "2    Charlie\n",
      "Name: Name, dtype: object\n",
      "Name          Alice\n",
      "Age              25\n",
      "City    Los Angeles\n",
      "Name: 0, dtype: object\n",
      "Name         Bob\n",
      "Age           30\n",
      "City    New York\n",
      "Name: 1, dtype: object\n",
      "    Name  Age         City\n",
      "0  Alice   25  Los Angeles\n",
      "1    Bob   30     New York\n"
     ]
    }
   ],
   "source": [
    "#Dataframe\n",
    "data_dict = {\n",
    "    'Name' : ['Alice', 'Bob', 'Charlie'], \n",
    "    'Age' : [25, 30, 35],\n",
    "    'City' : ['Los Angeles', 'New York', 'Chicago']}\n",
    "df = pd.DataFrame(data_dict)\n",
    "print(\"\\nPandas DataFrame: \")\n",
    "print(df)\n",
    "print(df['Name']) #Displays only the name column\n",
    "print(df.iloc[0]) #Displays index 0 imformation, Accessing row\n",
    "print(df.iloc[1])\n",
    "print(df.iloc[0:2]) #retrieves 0 and 1 index rows\n"
   ]
  },
  {
   "cell_type": "code",
   "execution_count": 24,
   "id": "d6da8e61-29e0-4d5a-bef4-680b15293721",
   "metadata": {},
   "outputs": [
    {
     "name": "stdout",
     "output_type": "stream",
     "text": [
      "Name    Alice\n",
      "Age        25\n",
      "Name: a, dtype: object\n",
      "    Name  Age\n",
      "a  Alice   25\n",
      "b    Bob   30\n",
      "Alice\n"
     ]
    }
   ],
   "source": [
    "import pandas as pd\n",
    "data_dict = {\n",
    "    'Name' : ['Alice', 'Bob', 'Charlie'],\n",
    "    'Age' : [25, 30, 35]}\n",
    "df = pd.DataFrame(data_dict, index =['a','b','c']) #Assinging custom indices\n",
    "print(df.loc['a'])\n",
    "print(df.loc['a':'b']) #Select rows a to b INCLUSIVE\n",
    "print(df.loc['a','Name']) #SElect specific value\n",
    "\n",
    "             \n"
   ]
  },
  {
   "cell_type": "code",
   "execution_count": null,
   "id": "f55c7100-c236-4ecb-9566-4d32d465581b",
   "metadata": {},
   "outputs": [],
   "source": []
  }
 ],
 "metadata": {
  "kernelspec": {
   "display_name": "Python 3 (ipykernel)",
   "language": "python",
   "name": "python3"
  },
  "language_info": {
   "codemirror_mode": {
    "name": "ipython",
    "version": 3
   },
   "file_extension": ".py",
   "mimetype": "text/x-python",
   "name": "python",
   "nbconvert_exporter": "python",
   "pygments_lexer": "ipython3",
   "version": "3.13.2"
  }
 },
 "nbformat": 4,
 "nbformat_minor": 5
}
