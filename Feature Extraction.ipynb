{
 "cells": [
  {
   "cell_type": "code",
   "execution_count": null,
   "id": "e6639a7d-01fa-4d04-b203-717a1ae87210",
   "metadata": {},
   "outputs": [],
   "source": [
    "#Bank: Loan Default Risk Prediction\n",
    "- Age\n",
    "- Annual Income\n",
    "- City \n",
    "- Paid on time"
   ]
  },
  {
   "cell_type": "code",
   "execution_count": 14,
   "id": "e3e9358c-d495-4523-924b-0c78283e570e",
   "metadata": {},
   "outputs": [
    {
     "data": {
      "text/html": [
       "<div>\n",
       "<style scoped>\n",
       "    .dataframe tbody tr th:only-of-type {\n",
       "        vertical-align: middle;\n",
       "    }\n",
       "\n",
       "    .dataframe tbody tr th {\n",
       "        vertical-align: top;\n",
       "    }\n",
       "\n",
       "    .dataframe thead th {\n",
       "        text-align: right;\n",
       "    }\n",
       "</style>\n",
       "<table border=\"1\" class=\"dataframe\">\n",
       "  <thead>\n",
       "    <tr style=\"text-align: right;\">\n",
       "      <th></th>\n",
       "      <th>age</th>\n",
       "      <th>income</th>\n",
       "      <th>city</th>\n",
       "      <th>default</th>\n",
       "    </tr>\n",
       "  </thead>\n",
       "  <tbody>\n",
       "    <tr>\n",
       "      <th>0</th>\n",
       "      <td>23</td>\n",
       "      <td>23670</td>\n",
       "      <td>Delhi</td>\n",
       "      <td>0</td>\n",
       "    </tr>\n",
       "    <tr>\n",
       "      <th>1</th>\n",
       "      <td>19</td>\n",
       "      <td>51717</td>\n",
       "      <td>Delhi</td>\n",
       "      <td>0</td>\n",
       "    </tr>\n",
       "    <tr>\n",
       "      <th>2</th>\n",
       "      <td>58</td>\n",
       "      <td>109043</td>\n",
       "      <td>NY</td>\n",
       "      <td>0</td>\n",
       "    </tr>\n",
       "    <tr>\n",
       "      <th>3</th>\n",
       "      <td>41</td>\n",
       "      <td>29129</td>\n",
       "      <td>Delhi</td>\n",
       "      <td>0</td>\n",
       "    </tr>\n",
       "    <tr>\n",
       "      <th>4</th>\n",
       "      <td>26</td>\n",
       "      <td>38329</td>\n",
       "      <td>London</td>\n",
       "      <td>0</td>\n",
       "    </tr>\n",
       "  </tbody>\n",
       "</table>\n",
       "</div>"
      ],
      "text/plain": [
       "   age  income    city  default\n",
       "0   23   23670   Delhi        0\n",
       "1   19   51717   Delhi        0\n",
       "2   58  109043      NY        0\n",
       "3   41   29129   Delhi        0\n",
       "4   26   38329  London        0"
      ]
     },
     "execution_count": 14,
     "metadata": {},
     "output_type": "execute_result"
    }
   ],
   "source": [
    "import numpy as np\n",
    "import pandas as pd\n",
    "from sklearn.preprocessing import PolynomialFeatures\n",
    "\n",
    "np.random.seed(4)\n",
    "n_samples = 1000\n",
    "\n",
    "df = pd.DataFrame({\n",
    "    'age' : np.random.randint(18,60,n_samples),\n",
    "    'income' : np.random.randint(20_000, 150_000, n_samples),\n",
    "    'city' : np.random.choice(['NY', 'Delhi', 'London'], n_samples),\n",
    "    'default' : np.random.choice([0,1],n_samples,p=[0.85,0.15])\n",
    "})\n",
    "df.head()"
   ]
  },
  {
   "cell_type": "code",
   "execution_count": 15,
   "id": "343ce8ad-5573-4768-b3f6-4081c425f5f2",
   "metadata": {},
   "outputs": [],
   "source": [
    "df['num_city'] = df['city'].map({'NY':1, 'Delhi':2, 'London': 3})"
   ]
  },
  {
   "cell_type": "code",
   "execution_count": 16,
   "id": "ef23efdf-216e-4ced-808b-c2bede65cb88",
   "metadata": {},
   "outputs": [
    {
     "data": {
      "text/html": [
       "<div>\n",
       "<style scoped>\n",
       "    .dataframe tbody tr th:only-of-type {\n",
       "        vertical-align: middle;\n",
       "    }\n",
       "\n",
       "    .dataframe tbody tr th {\n",
       "        vertical-align: top;\n",
       "    }\n",
       "\n",
       "    .dataframe thead th {\n",
       "        text-align: right;\n",
       "    }\n",
       "</style>\n",
       "<table border=\"1\" class=\"dataframe\">\n",
       "  <thead>\n",
       "    <tr style=\"text-align: right;\">\n",
       "      <th></th>\n",
       "      <th>age</th>\n",
       "      <th>income</th>\n",
       "      <th>city</th>\n",
       "      <th>default</th>\n",
       "      <th>num_city</th>\n",
       "    </tr>\n",
       "  </thead>\n",
       "  <tbody>\n",
       "    <tr>\n",
       "      <th>0</th>\n",
       "      <td>23</td>\n",
       "      <td>23670</td>\n",
       "      <td>Delhi</td>\n",
       "      <td>0</td>\n",
       "      <td>2</td>\n",
       "    </tr>\n",
       "    <tr>\n",
       "      <th>1</th>\n",
       "      <td>19</td>\n",
       "      <td>51717</td>\n",
       "      <td>Delhi</td>\n",
       "      <td>0</td>\n",
       "      <td>2</td>\n",
       "    </tr>\n",
       "    <tr>\n",
       "      <th>2</th>\n",
       "      <td>58</td>\n",
       "      <td>109043</td>\n",
       "      <td>NY</td>\n",
       "      <td>0</td>\n",
       "      <td>1</td>\n",
       "    </tr>\n",
       "    <tr>\n",
       "      <th>3</th>\n",
       "      <td>41</td>\n",
       "      <td>29129</td>\n",
       "      <td>Delhi</td>\n",
       "      <td>0</td>\n",
       "      <td>2</td>\n",
       "    </tr>\n",
       "    <tr>\n",
       "      <th>4</th>\n",
       "      <td>26</td>\n",
       "      <td>38329</td>\n",
       "      <td>London</td>\n",
       "      <td>0</td>\n",
       "      <td>3</td>\n",
       "    </tr>\n",
       "  </tbody>\n",
       "</table>\n",
       "</div>"
      ],
      "text/plain": [
       "   age  income    city  default  num_city\n",
       "0   23   23670   Delhi        0         2\n",
       "1   19   51717   Delhi        0         2\n",
       "2   58  109043      NY        0         1\n",
       "3   41   29129   Delhi        0         2\n",
       "4   26   38329  London        0         3"
      ]
     },
     "execution_count": 16,
     "metadata": {},
     "output_type": "execute_result"
    }
   ],
   "source": [
    "df.head()"
   ]
  },
  {
   "cell_type": "code",
   "execution_count": 20,
   "id": "6f37f209-dd82-43fa-8087-bd07a3ff82db",
   "metadata": {},
   "outputs": [
    {
     "data": {
      "text/html": [
       "<div>\n",
       "<style scoped>\n",
       "    .dataframe tbody tr th:only-of-type {\n",
       "        vertical-align: middle;\n",
       "    }\n",
       "\n",
       "    .dataframe tbody tr th {\n",
       "        vertical-align: top;\n",
       "    }\n",
       "\n",
       "    .dataframe thead th {\n",
       "        text-align: right;\n",
       "    }\n",
       "</style>\n",
       "<table border=\"1\" class=\"dataframe\">\n",
       "  <thead>\n",
       "    <tr style=\"text-align: right;\">\n",
       "      <th></th>\n",
       "      <th>age</th>\n",
       "      <th>income</th>\n",
       "      <th>age^2</th>\n",
       "      <th>age income</th>\n",
       "      <th>income^2</th>\n",
       "    </tr>\n",
       "  </thead>\n",
       "  <tbody>\n",
       "    <tr>\n",
       "      <th>0</th>\n",
       "      <td>23.0</td>\n",
       "      <td>23670.0</td>\n",
       "      <td>529.0</td>\n",
       "      <td>544410.0</td>\n",
       "      <td>5.602689e+08</td>\n",
       "    </tr>\n",
       "    <tr>\n",
       "      <th>1</th>\n",
       "      <td>19.0</td>\n",
       "      <td>51717.0</td>\n",
       "      <td>361.0</td>\n",
       "      <td>982623.0</td>\n",
       "      <td>2.674648e+09</td>\n",
       "    </tr>\n",
       "    <tr>\n",
       "      <th>2</th>\n",
       "      <td>58.0</td>\n",
       "      <td>109043.0</td>\n",
       "      <td>3364.0</td>\n",
       "      <td>6324494.0</td>\n",
       "      <td>1.189038e+10</td>\n",
       "    </tr>\n",
       "    <tr>\n",
       "      <th>3</th>\n",
       "      <td>41.0</td>\n",
       "      <td>29129.0</td>\n",
       "      <td>1681.0</td>\n",
       "      <td>1194289.0</td>\n",
       "      <td>8.484986e+08</td>\n",
       "    </tr>\n",
       "    <tr>\n",
       "      <th>4</th>\n",
       "      <td>26.0</td>\n",
       "      <td>38329.0</td>\n",
       "      <td>676.0</td>\n",
       "      <td>996554.0</td>\n",
       "      <td>1.469112e+09</td>\n",
       "    </tr>\n",
       "  </tbody>\n",
       "</table>\n",
       "</div>"
      ],
      "text/plain": [
       "    age    income   age^2  age income      income^2\n",
       "0  23.0   23670.0   529.0    544410.0  5.602689e+08\n",
       "1  19.0   51717.0   361.0    982623.0  2.674648e+09\n",
       "2  58.0  109043.0  3364.0   6324494.0  1.189038e+10\n",
       "3  41.0   29129.0  1681.0   1194289.0  8.484986e+08\n",
       "4  26.0   38329.0   676.0    996554.0  1.469112e+09"
      ]
     },
     "execution_count": 20,
     "metadata": {},
     "output_type": "execute_result"
    }
   ],
   "source": [
    "#Finding non-linear relationships -> Polynomial Features[Degree 2]\n",
    "poly = PolynomialFeatures(degree = 2, include_bias = False)\n",
    "poly_features = poly.fit_transform(df[['age', 'income']])\n",
    "poly_feature_name = poly.get_feature_names_out(['age','income'])\n",
    "df_poly = pd.DataFrame(poly_features, columns = poly_feature_name)\n",
    "df_poly.head()"
   ]
  },
  {
   "cell_type": "code",
   "execution_count": null,
   "id": "3288d232-89f1-4083-aef6-cc2f1e62a6d6",
   "metadata": {},
   "outputs": [],
   "source": [
    "age -> stable job -> health issues\n",
    "income -> higher -> better ability to repay loans -> bad habits | family responsibilities\n",
    "=> age, income, [loan..] might not be in a linear relationship\n",
    "we need to build polynomial features to capture more realistic patterns "
   ]
  },
  {
   "cell_type": "code",
   "execution_count": null,
   "id": "20f201f0-d4af-486a-a229-ed6f57f7704b",
   "metadata": {},
   "outputs": [],
   "source": [
    "age^2 => "
   ]
  },
  {
   "cell_type": "code",
   "execution_count": 21,
   "id": "8a7dc64e-7b1c-46ae-b8f6-dce651f9c289",
   "metadata": {},
   "outputs": [
    {
     "ename": "NameError",
     "evalue": "name 'plt' is not defined",
     "output_type": "error",
     "traceback": [
      "\u001b[31m---------------------------------------------------------------------------\u001b[39m",
      "\u001b[31mNameError\u001b[39m                                 Traceback (most recent call last)",
      "\u001b[36mCell\u001b[39m\u001b[36m \u001b[39m\u001b[32mIn[21]\u001b[39m\u001b[32m, line 1\u001b[39m\n\u001b[32m----> \u001b[39m\u001b[32m1\u001b[39m plt.scatter(df[\u001b[33m'\u001b[39m\u001b[33mage\u001b[39m\u001b[33m'\u001b[39m], df[\u001b[33m'\u001b[39m\u001b[33mincome\u001b[39m\u001b[33m'\u001b[39m], alpha = \u001b[32m0.6\u001b[39m)\n\u001b[32m      2\u001b[39m plt.xlabel(\u001b[33m\"\u001b[39m\u001b[33mAge\u001b[39m\u001b[33m\"\u001b[39m)\n\u001b[32m      3\u001b[39m plt.ylabel(\u001b[33m\"\u001b[39m\u001b[33mIncome\u001b[39m\u001b[33m\"\u001b[39m)\n",
      "\u001b[31mNameError\u001b[39m: name 'plt' is not defined"
     ]
    }
   ],
   "source": [
    "plt.scatter(df['age'], df['income'], alpha = 0.6)\n",
    "plt.xlabel(\"Age\")\n",
    "plt.ylabel(\"Income\")\n",
    "plt.title(\"Age Vs income\")\n",
    "plt.show()"
   ]
  }
 ],
 "metadata": {
  "kernelspec": {
   "display_name": "Python 3 (ipykernel)",
   "language": "python",
   "name": "python3"
  },
  "language_info": {
   "codemirror_mode": {
    "name": "ipython",
    "version": 3
   },
   "file_extension": ".py",
   "mimetype": "text/x-python",
   "name": "python",
   "nbconvert_exporter": "python",
   "pygments_lexer": "ipython3",
   "version": "3.13.2"
  }
 },
 "nbformat": 4,
 "nbformat_minor": 5
}
