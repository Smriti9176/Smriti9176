{
 "cells": [
  {
   "cell_type": "code",
   "execution_count": 32,
   "id": "88e251b5-d502-44c8-9cb4-f1307a536720",
   "metadata": {},
   "outputs": [],
   "source": [
    "#Importing all necessary libraries \n",
    "\n",
    "import requests                      #For making HTTP requests\n",
    "from bs4 import BeautifulSoup        #For parsing HTML content\n",
    "import pandas as pd                  #For creating, storing and manipulating dataframe\n",
    "import json"
   ]
  },
  {
   "cell_type": "code",
   "execution_count": 33,
   "id": "c7b35eb0-4974-4363-8915-1243da2eaa1a",
   "metadata": {},
   "outputs": [],
   "source": [
    "#the URL\n",
    "#Using headers to mimic a browser request\n",
    "url = 'https://www.imdb.com/chart/top/'\n",
    "headers = {\n",
    "    'User-Agent' : 'Mozilla/5.0 (Windows NT 10.0; Win 64; x64) AppleWebKit/537.36 (KHTML, like Gecko) Chrome/91.0.4472.124 Safari/537.36'\n",
    "}"
   ]
  },
  {
   "cell_type": "code",
   "execution_count": 34,
   "id": "ff1cd02e-ec71-4efc-97a7-b92e1b1fa04f",
   "metadata": {},
   "outputs": [
    {
     "data": {
      "text/plain": [
       "<Response [200]>"
      ]
     },
     "execution_count": 34,
     "metadata": {},
     "output_type": "execute_result"
    }
   ],
   "source": [
    "#sending request to fetch page content\n",
    "response = requests.get(url, headers=headers)\n",
    "response"
   ]
  },
  {
   "cell_type": "code",
   "execution_count": 35,
   "id": "1a0f0288-82f2-4086-be94-b548051036a5",
   "metadata": {},
   "outputs": [],
   "source": [
    "#Parse the HTML content\n",
    "soup = BeautifulSoup(response.content, 'html.parser')"
   ]
  },
  {
   "cell_type": "code",
   "execution_count": 36,
   "id": "062a3b71-26e8-446a-a035-677d3387db66",
   "metadata": {},
   "outputs": [
    {
     "name": "stdout",
     "output_type": "stream",
     "text": [
      "<!DOCTYPE html>\n",
      "<html lang=\"en-US\" xmlns:fb=\"http://www.facebook.com/2008/fbml\" xmlns:og=\"http://opengraphprotocol.org/schema/\">\n",
      " <head>\n",
      "  <meta charset=\"utf-8\"/>\n",
      "  <meta content=\"width=device-width\" name=\"viewport\"/>\n",
      "  <script>\n",
      "   if(typeof uet === 'function'){ uet('bb', 'LoadTitle', {wb: 1}); }\n",
      "  </script>\n",
      "  <script>\n",
      "   window.addEventListener('load', (event) => {\n",
      "        if (typeof window.csa !== 'undefined' && typeof window.csa === 'function') {\n",
      "            var csaLatencyPlugin = window.csa('Content', {\n",
      "                element: {\n",
      "                    slotId: 'LoadTitle',\n",
      "                    type: 'service-call'\n",
      "                }\n",
      "            });\n",
      "            csaLatencyPlugin('mark', 'clickToBodyBegin', 1749786111343);\n",
      "        }\n",
      "    })\n",
      "  </script>\n",
      "  <title>\n",
      "   IMDb Top 250 movies\n",
      "  </title>\n",
      "  <meta content=\"As rated by regular IMDb voters.\" data-id=\"main\" name=\"description\"/>\n",
      "  <meta content=\"0cadf7898134e79b\" name=\"google-site-verification\"/>\n",
      "  <meta content=\"C1DACEF2769068C0B0D2687C9E5105FA\" name=\"msvalidate.01\"/>\n",
      "  <meta content=\"max-image-preview:large\" name=\"robots\"/>\n",
      "  <script type=\"application/ld+json\">\n",
      "   {\"@type\":\"ItemList\",\"itemListElement\":[{\"@type\":\"ListItem\",\"item\":{\"@type\":\"Movie\",\"url\":\"https://www.imdb.com/title/tt0111161/\",\"name\":\"The Shawshank Redemption\",\"description\":\"A banker convicted of uxoricide forms a friendship over a quarter century with a hardened convict, while maintaining his innocence and trying to remain hopeful through simple compassion.\",\"image\":\"https://m.media-amazon.com/images/M/MV5BMDAyY2FhYjctNDc5OS00MDNlLThiMGUtY2UxYWVkNGY2ZjljXkEyXkFqcGc@._V1_.jpg\",\"aggregateRating\":{\"@type\":\"AggregateRating\",\"bestRating\":10,\"worstRating\":1,\"ratingValue\":9.3,\"ratingCount\":3055816},\"contentRating\":\"R\",\"genre\":\"Drama\",\"duration\":\"PT2H22M\"}},{\"@type\":\"ListItem\",\"item\":{\"@type\":\"Movie\",\"url\":\"https://www.imdb.com/title/tt0068646/\",\"name\":\"The Godfather\",\"description\":\"The aging patriarch of an organized crime dynasty transfers control of his cla\n"
     ]
    }
   ],
   "source": [
    "#Printing the parsed HTML to verify\n",
    "print(soup.prettify()[:2000])"
   ]
  },
  {
   "cell_type": "code",
   "execution_count": 37,
   "id": "17e75b67-9c12-4e19-98b8-35e9a2e82a0d",
   "metadata": {},
   "outputs": [],
   "source": [
    "#Find the JSON data in the script tag\n",
    "\n",
    "json_data = soup.find('script', type='application/ld+json')"
   ]
  },
  {
   "cell_type": "code",
   "execution_count": 38,
   "id": "f5510952-34a8-466c-b6ec-5d4e686897e3",
   "metadata": {},
   "outputs": [],
   "source": [
    "#Parse the json data\n",
    "if json_data:\n",
    "    data = json.loads(json_data.string)"
   ]
  },
  {
   "cell_type": "code",
   "execution_count": 39,
   "id": "cbc02d5a-1867-4132-ac25-1e08284228be",
   "metadata": {},
   "outputs": [],
   "source": [
    "#Extract titles and ratings\n",
    "titles = []\n",
    "urls = []\n",
    "descriptions = []\n",
    "best_ratings = []\n",
    "worst_ratings = []\n",
    "ratings = []\n",
    "genres = []\n",
    "durations = []"
   ]
  },
  {
   "cell_type": "code",
   "execution_count": 40,
   "id": "37473363-6bf5-4958-997c-bd1fa0b80ead",
   "metadata": {},
   "outputs": [],
   "source": [
    "#Check if the data contains the expected structure\n",
    "if 'itemListElement' in data:\n",
    "    for item in data['itemListElement']:\n",
    "        movie = item['item']\n",
    "\n",
    "        #Extract movie details\n",
    "        titles.append(movie['name'])                 #Movie name\n",
    "        urls.append(movie['url'])                    #Movie URL\n",
    "        descriptions.append(movie['description'])    #Movie Description\n",
    "\n",
    "        #Extract ratings, best, worst, actual ratings\n",
    "        best_ratings.append(movie['aggregateRating']['bestRating'])      #Best Rating\n",
    "        worst_ratings.append(movie['aggregateRating']['worstRating'])    #Worst Rating\n",
    "        ratings.append(movie['aggregateRating']['ratingValue'])         #Rating value\n",
    "\n",
    "        genres.append(movie['genre'])       #Movie genre\n",
    "        durations.append(movie['duration']) #Movie duration\n",
    "        "
   ]
  },
  {
   "cell_type": "code",
   "execution_count": 41,
   "id": "262ddf1d-eb64-4e07-a58f-5ed8ae94ce2d",
   "metadata": {},
   "outputs": [
    {
     "data": {
      "text/plain": [
       "<bound method NDFrame.head of                         Title                                    URL  \\\n",
       "0    The Shawshank Redemption  https://www.imdb.com/title/tt0111161/   \n",
       "1               The Godfather  https://www.imdb.com/title/tt0068646/   \n",
       "2             The Dark Knight  https://www.imdb.com/title/tt0468569/   \n",
       "3       The Godfather Part II  https://www.imdb.com/title/tt0071562/   \n",
       "4                12 Angry Men  https://www.imdb.com/title/tt0050083/   \n",
       "..                        ...                                    ...   \n",
       "245             Groundhog Day  https://www.imdb.com/title/tt0107048/   \n",
       "246                  The Help  https://www.imdb.com/title/tt1454029/   \n",
       "247               Höstsonaten  https://www.imdb.com/title/tt0077711/   \n",
       "248             Amores perros  https://www.imdb.com/title/tt0245712/   \n",
       "249        Gangs of Wasseypur  https://www.imdb.com/title/tt1954470/   \n",
       "\n",
       "                                           Description  Best Rating  \\\n",
       "0    A banker convicted of uxoricide forms a friend...           10   \n",
       "1    The aging patriarch of an organized crime dyna...           10   \n",
       "2    When a menace known as the Joker wreaks havoc ...           10   \n",
       "3    The early life and career of Vito Corleone in ...           10   \n",
       "4    The jury in a New York City murder trial is fr...           10   \n",
       "..                                                 ...          ...   \n",
       "245  A narcissistic, self-centered weatherman finds...           10   \n",
       "246  An aspiring author during the civil rights mov...           10   \n",
       "247  A devoted wife is visited by her mother, a suc...           10   \n",
       "248  An amateur dog fighter, a supermodel, and a de...           10   \n",
       "249  A clash between Sultan and Shahid Khan leads t...           10   \n",
       "\n",
       "     Worst Rating  Rating                   Genre Duration  \n",
       "0               1     9.3                   Drama  PT2H22M  \n",
       "1               1     9.2            Crime, Drama  PT2H55M  \n",
       "2               1     9.0    Action, Crime, Drama  PT2H32M  \n",
       "3               1     9.0            Crime, Drama  PT3H22M  \n",
       "4               1     9.0            Crime, Drama  PT1H36M  \n",
       "..            ...     ...                     ...      ...  \n",
       "245             1     8.0  Comedy, Drama, Fantasy  PT1H41M  \n",
       "246             1     8.1                   Drama  PT2H26M  \n",
       "247             1     8.1            Drama, Music  PT1H39M  \n",
       "248             1     8.0         Drama, Thriller  PT2H34M  \n",
       "249             1     8.2   Action, Comedy, Crime  PT5H21M  \n",
       "\n",
       "[250 rows x 8 columns]>"
      ]
     },
     "execution_count": 41,
     "metadata": {},
     "output_type": "execute_result"
    }
   ],
   "source": [
    "#Create DataFrame to store scrapped data\n",
    "\n",
    "df = pd.DataFrame({\n",
    "    'Title': titles,\n",
    "    'URL': urls,\n",
    "    'Description': descriptions,\n",
    "    'Best Rating': best_ratings,\n",
    "    'Worst Rating': worst_ratings,\n",
    "    'Rating': ratings,\n",
    "    'Genre': genres,\n",
    "    'Duration': durations\n",
    "})\n",
    "\n",
    "df.head"
   ]
  },
  {
   "cell_type": "code",
   "execution_count": 42,
   "id": "9aae5b2b-d1cc-4919-8daf-05e713a61adf",
   "metadata": {},
   "outputs": [
    {
     "name": "stdout",
     "output_type": "stream",
     "text": [
      "Data saved in csv format\n"
     ]
    }
   ],
   "source": [
    "#Save the dataframe to a CSV file\n",
    "df.to_csv('toIMDBmovies.csv', index=False) #Setting index = False excludes the row index from being written to the file\n",
    "print(\"Data saved in csv format\")"
   ]
  }
 ],
 "metadata": {
  "kernelspec": {
   "display_name": "Python 3 (ipykernel)",
   "language": "python",
   "name": "python3"
  },
  "language_info": {
   "codemirror_mode": {
    "name": "ipython",
    "version": 3
   },
   "file_extension": ".py",
   "mimetype": "text/x-python",
   "name": "python",
   "nbconvert_exporter": "python",
   "pygments_lexer": "ipython3",
   "version": "3.13.2"
  }
 },
 "nbformat": 4,
 "nbformat_minor": 5
}
