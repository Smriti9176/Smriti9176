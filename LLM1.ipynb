{
 "cells": [
  {
   "cell_type": "code",
   "execution_count": 12,
   "id": "b4a2f378-c774-42c8-9bb4-3621b9fc2aba",
   "metadata": {},
   "outputs": [
    {
     "data": {
      "text/plain": [
       "['My', 'name', 'is', 'Ram']"
      ]
     },
     "execution_count": 12,
     "metadata": {},
     "output_type": "execute_result"
    }
   ],
   "source": [
    "sentence = \"My name is|{}---%%& Ram.\"\n",
    "import string\n",
    "\n",
    "sentence = sentence.translate(str.maketrans('','',string.punctuation))\n",
    "sentence \n",
    "\n",
    "tokens = sentence.split()\n",
    "tokens"
   ]
  },
  {
   "cell_type": "code",
   "execution_count": 13,
   "id": "c2b06763-ee96-4513-bc03-8590ccc56c83",
   "metadata": {},
   "outputs": [
    {
     "name": "stdout",
     "output_type": "stream",
     "text": [
      "My -> DETERMINANT\n",
      "name -> NOUN\n",
      "is -> VERB\n",
      "Ram -> UNKNOWN\n"
     ]
    }
   ],
   "source": [
    "token_types = {\n",
    "    \"my\":\"DETERMINANT\",\n",
    "    \"name\":\"NOUN\",\n",
    "    \"is\":\"VERB\",\n",
    "    \"Ram\": \"Proper Noun\"\n",
    "}\n",
    "\n",
    "for t in tokens:\n",
    "    word = t.lower()\n",
    "    token_type = token_types.get(word,\"UNKNOWN\")\n",
    "    print(f\"{t} -> {token_type}\")"
   ]
  },
  {
   "cell_type": "code",
   "execution_count": 3,
   "id": "9b9b12fd-462b-40bd-b0fb-c2f8fc959713",
   "metadata": {},
   "outputs": [],
   "source": [
    "import nltk\n",
    "from nltk import CFG # CFG - Context Free Grammer"
   ]
  },
  {
   "cell_type": "code",
   "execution_count": 10,
   "id": "a7b14c08-02dd-4c86-b0d7-8b818aa2016c",
   "metadata": {},
   "outputs": [
    {
     "name": "stdout",
     "output_type": "stream",
     "text": [
      "              S             \n",
      "      ________|_______       \n",
      "     |                VP    \n",
      "     |             ___|___   \n",
      "     NP           |       NP\n",
      "  ___|___         |       |  \n",
      "Det      N        V       N \n",
      " |       |        |       |  \n",
      " My     name      is     Ram\n",
      "\n"
     ]
    }
   ],
   "source": [
    "grammer = CFG.fromstring(\"\"\"\n",
    "    S -> NP VP\n",
    "    NP -> Det N | N\n",
    "    VP -> V NP\n",
    "    Det -> 'My'\n",
    "    N -> 'name' | 'Ram'\n",
    "    V -> 'is'\n",
    "\"\"\"\n",
    ")\n",
    "\n",
    "parser = nltk.ChartParser(grammer)\n",
    "\n",
    "sentence = ['My', 'name', 'is', 'Ram']\n",
    "\n",
    "for t in parser.parse(sentence):\n",
    "    t.pretty_print()\n"
   ]
  },
  {
   "cell_type": "code",
   "execution_count": 14,
   "id": "c596a00e-8aab-4de8-8b9b-e9d7c6c8ebca",
   "metadata": {},
   "outputs": [
    {
     "ename": "NameError",
     "evalue": "name 'num1' is not defined",
     "output_type": "error",
     "traceback": [
      "\u001b[31m---------------------------------------------------------------------------\u001b[39m",
      "\u001b[31mNameError\u001b[39m                                 Traceback (most recent call last)",
      "\u001b[36mCell\u001b[39m\u001b[36m \u001b[39m\u001b[32mIn[14]\u001b[39m\u001b[32m, line 2\u001b[39m\n\u001b[32m      1\u001b[39m \u001b[38;5;66;03m# Aim: Sum of 2 numbers\u001b[39;00m\n\u001b[32m----> \u001b[39m\u001b[32m2\u001b[39m num1\n\u001b[32m      3\u001b[39m num2 = \u001b[32m20\u001b[39m\n\u001b[32m      4\u001b[39m sum1 = num1 + num2\n",
      "\u001b[31mNameError\u001b[39m: name 'num1' is not defined"
     ]
    }
   ],
   "source": [
    "# Aim: Sum of 2 numbers\n",
    "num1\n",
    "num2 = 20\n",
    "sum1 = num1 + num2"
   ]
  }
 ],
 "metadata": {
  "kernelspec": {
   "display_name": "Python 3 (ipykernel)",
   "language": "python",
   "name": "python3"
  },
  "language_info": {
   "codemirror_mode": {
    "name": "ipython",
    "version": 3
   },
   "file_extension": ".py",
   "mimetype": "text/x-python",
   "name": "python",
   "nbconvert_exporter": "python",
   "pygments_lexer": "ipython3",
   "version": "3.13.2"
  }
 },
 "nbformat": 4,
 "nbformat_minor": 5
}
